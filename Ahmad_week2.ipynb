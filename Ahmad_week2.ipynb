{
  "nbformat": 4,
  "nbformat_minor": 0,
  "metadata": {
    "colab": {
      "provenance": [],
      "authorship_tag": "ABX9TyPNri1P68OP+YWzOP+gvMho",
      "include_colab_link": true
    },
    "kernelspec": {
      "name": "python3",
      "display_name": "Python 3"
    },
    "language_info": {
      "name": "python"
    }
  },
  "cells": [
    {
      "cell_type": "markdown",
      "metadata": {
        "id": "view-in-github",
        "colab_type": "text"
      },
      "source": [
        "<a href=\"https://colab.research.google.com/github/muhammadahmad1410/Muhammad-Ahmad/blob/main/Ahmad_week2.ipynb\" target=\"_parent\"><img src=\"https://colab.research.google.com/assets/colab-badge.svg\" alt=\"Open In Colab\"/></a>"
      ]
    },
    {
      "cell_type": "code",
      "execution_count": null,
      "metadata": {
        "colab": {
          "base_uri": "https://localhost:8080/"
        },
        "id": "oFAWrb3kkff-",
        "outputId": "45ffed98-a234-4802-9de8-329b7563eafd"
      },
      "outputs": [
        {
          "output_type": "stream",
          "name": "stdout",
          "text": [
            "Enter number of rows: 2\n",
            "Enter number of columns: 2\n",
            "Enter the matrix row-wise:\n",
            "Enter row 1 (space-separated): 1 2\n",
            "Enter row 2 (space-separated): 3 5\n",
            "\n",
            "Matrix in Spiral Order:\n",
            "1 2 5 3 "
          ]
        }
      ],
      "source": [
        "#Print matrix in spiral form\n",
        "rows = int(input(\"Enter number of rows: \"))\n",
        "cols = int(input(\"Enter number of columns: \"))\n",
        "print(\"Enter the matrix row-wise:\")\n",
        "matrix = []\n",
        "for i in range(rows):\n",
        "    row = list(map(int, input(f\"Enter row {i+1} (space-separated): \").split()))\n",
        "    if len(row) != cols:\n",
        "        print(\"Invalid number of elements. Exiting.\")\n",
        "        exit()\n",
        "    matrix.append(row)\n",
        "top = 0\n",
        "bottom = rows - 1\n",
        "left = 0\n",
        "right = cols - 1\n",
        "print(\"\\nMatrix in Spiral Order:\")\n",
        "while top <= bottom and left <= right:\n",
        "    for i in range(left, right + 1):\n",
        "        print(matrix[top][i], end=\" \")\n",
        "    top += 1\n",
        "    for i in range(top, bottom + 1):\n",
        "        print(matrix[i][right], end=\" \")\n",
        "    right -= 1\n",
        "    if top <= bottom:\n",
        "        for i in range(right, left - 1, -1):\n",
        "            print(matrix[bottom][i], end=\" \")\n",
        "        bottom -= 1\n",
        "    if left <= right:\n",
        "        for i in range(bottom, top - 1, -1):\n",
        "            print(matrix[i][left], end=\" \")\n",
        "        left += 1\n"
      ]
    },
    {
      "cell_type": "code",
      "source": [
        "#Rotate matrix by 90 degree\n",
        "rows = int(input(\"Enter number of rows: \"))\n",
        "cols = int(input(\"Enter number of columns: \"))\n",
        "print(\"Enter the matrix row-wise:\")\n",
        "matrix = []\n",
        "for i in range(rows):\n",
        "    row = list(map(int, input(f\"Enter row {i+1} (space-separated): \").split()))\n",
        "    if len(row) != cols:\n",
        "        print(\"Invalid number of elements in row. Exiting.\")\n",
        "        exit()\n",
        "    matrix.append(row)\n",
        "rotated = []\n",
        "for i in range(cols):\n",
        "    new_row = []\n",
        "    for j in range(rows):\n",
        "        new_row.append(matrix[j][i])\n",
        "    rotated.append(new_row)\n",
        "for i in range(cols):\n",
        "    rotated[i] = rotated[i][::-1]\n",
        "print(\"\\nMatrix after 90 degree clockwise rotation:\")\n",
        "for row in rotated:\n",
        "    print(\" \".join(map(str, row)))\n"
      ],
      "metadata": {
        "colab": {
          "base_uri": "https://localhost:8080/"
        },
        "id": "kzf1WbW_mORS",
        "outputId": "e45120e3-9910-490e-ceac-4fba0f7dcd72"
      },
      "execution_count": null,
      "outputs": [
        {
          "output_type": "stream",
          "name": "stdout",
          "text": [
            "Enter number of rows: 3\n",
            "Enter number of columns: 3\n",
            "Enter the matrix row-wise:\n",
            "Enter row 1 (space-separated): 1 5 8\n",
            "Enter row 2 (space-separated): 9 6 3\n",
            "Enter row 3 (space-separated): 7 4 1 \n",
            "\n",
            "Matrix after 90 degree clockwise rotation:\n",
            "7 9 1\n",
            "4 6 5\n",
            "1 3 8\n"
          ]
        }
      ]
    },
    {
      "cell_type": "code",
      "source": [
        "#Sum of diagonals\n",
        "n = int(input(\"Enter the size of the square matrix (n x n): \"))\n",
        "print(\"Enter the matrix row-wise:\")\n",
        "matrix = []\n",
        "for i in range(n):\n",
        "    row = list(map(int, input(f\"Enter row {i+1} (space-separated): \").split()))\n",
        "    if len(row) != n:\n",
        "        print(\"Invalid number of elements. Exiting.\")\n",
        "        exit()\n",
        "    matrix.append(row)\n",
        "main_diag_sum = 0\n",
        "sec_diag_sum = 0\n",
        "for i in range(n):\n",
        "    main_diag_sum += matrix[i][i]\n",
        "    sec_diag_sum += matrix[i][n - 1 - i]\n",
        "if n % 2 == 1:\n",
        "    center = matrix[n // 2][n // 2]\n",
        "    total_sum = main_diag_sum + sec_diag_sum - center\n",
        "else:\n",
        "    total_sum = main_diag_sum + sec_diag_sum\n",
        "print(\"\\nMain diagonal sum:\", main_diag_sum)\n",
        "print(\"Secondary diagonal sum:\", sec_diag_sum)\n",
        "print(\"Total diagonal sum:\", total_sum)\n",
        "\n"
      ],
      "metadata": {
        "colab": {
          "base_uri": "https://localhost:8080/"
        },
        "id": "QNYT7__Rm-0h",
        "outputId": "19512f64-7cda-432d-b1e0-2bc2f4e02f21"
      },
      "execution_count": null,
      "outputs": [
        {
          "output_type": "stream",
          "name": "stdout",
          "text": [
            "Enter the size of the square matrix (n x n): 3\n",
            "Enter the matrix row-wise:\n",
            "Enter row 1 (space-separated): 1 2 3\n",
            "Enter row 2 (space-separated): 4 5 6\n",
            "Enter row 3 (space-separated): 7 8 9\n",
            "\n",
            "Main diagonal sum: 15\n",
            "Secondary diagonal sum: 15\n",
            "Total diagonal sum: 25\n"
          ]
        }
      ]
    },
    {
      "cell_type": "code",
      "source": [
        "#transpose of a matrix\n",
        "rows = int(input(\"Enter number of rows: \"))\n",
        "cols = int(input(\"Enter number of columns: \"))\n",
        "print(\"Enter the matrix row-wise:\")\n",
        "matrix = []\n",
        "for i in range(rows):\n",
        "    row = list(map(int, input(f\"Enter row {i+1} (space-separated): \").split()))\n",
        "    if len(row) != cols:\n",
        "        print(\"Invalid number of elements in row. Exiting.\")\n",
        "        exit()\n",
        "    matrix.append(row)\n",
        "transpose = []\n",
        "for i in range(cols):\n",
        "    new_row = []\n",
        "    for j in range(rows):\n",
        "        new_row.append(matrix[j][i])\n",
        "    transpose.append(new_row)\n",
        "print(\"\\nTranspose of the matrix:\")\n",
        "for row in transpose:\n",
        "    print(\" \".join(map(str, row)))\n"
      ],
      "metadata": {
        "colab": {
          "base_uri": "https://localhost:8080/"
        },
        "id": "zgpkq6EgoEmN",
        "outputId": "a264b7f4-7d8b-476b-e6eb-f5e5416171c1"
      },
      "execution_count": null,
      "outputs": [
        {
          "output_type": "stream",
          "name": "stdout",
          "text": [
            "Enter number of rows: 3\n",
            "Enter number of columns: 3\n",
            "Enter the matrix row-wise:\n",
            "Enter row 1 (space-separated): 1 2 3\n",
            "Enter row 2 (space-separated): 4 5 6\n",
            "Enter row 3 (space-separated): 7 8 9\n",
            "\n",
            "Transpose of the matrix:\n",
            "1 4 7\n",
            "2 5 8\n",
            "3 6 9\n"
          ]
        }
      ]
    },
    {
      "cell_type": "code",
      "source": [
        "#Check if matrix is sparse\n",
        "rows = int(input(\"Enter number of rows: \"))\n",
        "cols = int(input(\"Enter number of columns: \"))\n",
        "print(\"Enter the matrix row-wise:\")\n",
        "matrix = []\n",
        "zero_count = 0\n",
        "total_elements = rows * cols\n",
        "\n",
        "for i in range(rows):\n",
        "    row = list(map(int, input(f\"Enter row {i+1} (space-separated): \").split()))\n",
        "    if len(row) != cols:\n",
        "        print(\"Invalid number of elements in row. Exiting.\")\n",
        "        exit()\n",
        "    matrix.append(row)\n",
        "    for val in row:\n",
        "        if val == 0:\n",
        "            zero_count += 1\n",
        "if zero_count > total_elements / 2:\n",
        "    print(\"\\nThe matrix is a Sparse Matrix.\")\n",
        "else:\n",
        "    print(\"\\nThe matrix is NOT a Sparse Matrix.\")\n"
      ],
      "metadata": {
        "colab": {
          "base_uri": "https://localhost:8080/"
        },
        "id": "PptPWvv_ouur",
        "outputId": "b6ec6fab-592a-486e-de2f-fe43a4ec07bd"
      },
      "execution_count": null,
      "outputs": [
        {
          "output_type": "stream",
          "name": "stdout",
          "text": [
            "Enter number of rows: 2\n",
            "Enter number of columns: 2\n",
            "Enter the matrix row-wise:\n",
            "Enter row 1 (space-separated): 8 9\n",
            "Enter row 2 (space-separated): 4 5\n",
            "\n",
            "The matrix is NOT a Sparse Matrix.\n"
          ]
        }
      ]
    },
    {
      "cell_type": "code",
      "source": [
        "#Add two polynomials\n",
        "deg1 = int(input(\"Enter the degree of the first polynomial: \"))\n",
        "print(\"Enter the coefficients of the first polynomial (highest degree to constant term):\")\n",
        "poly1 = list(map(int, input().split()))\n",
        "deg2 = int(input(\"Enter the degree of the second polynomial: \"))\n",
        "print(\"Enter the coefficients of the second polynomial (highest degree to constant term):\")\n",
        "poly2 = list(map(int, input().split()))\n",
        "if deg1 > deg2:\n",
        "    diff = deg1 - deg2\n",
        "    poly2 = [0]*diff + poly2\n",
        "elif deg2 > deg1:\n",
        "    diff = deg2 - deg1\n",
        "    poly1 = [0]*diff + poly1\n",
        "result = []\n",
        "for i in range(len(poly1)):\n",
        "    result.append(poly1[i] + poly2[i])\n",
        "print(\"\\nResultant Polynomial after Addition:\")\n",
        "degree = len(result) - 1\n",
        "for i in range(len(result)):\n",
        "    coef = result[i]\n",
        "    if coef != 0:\n",
        "        if degree - i == 0:\n",
        "            print(f\"{coef}\", end=\"\")\n",
        "        elif degree - i == 1:\n",
        "            print(f\"{coef}x\", end=\" + \")\n",
        "        else:\n",
        "            print(f\"{coef}x^{degree - i}\", end=\" + \")\n",
        "print()\n"
      ],
      "metadata": {
        "colab": {
          "base_uri": "https://localhost:8080/"
        },
        "id": "uH6wwMzApGTu",
        "outputId": "a09e84b3-c7c6-432c-e77a-9c7a46e6c993"
      },
      "execution_count": null,
      "outputs": [
        {
          "output_type": "stream",
          "name": "stdout",
          "text": [
            "Enter the degree of the first polynomial: 2\n",
            "Enter the coefficients of the first polynomial (highest degree to constant term):\n",
            "3 4 5\n",
            "Enter the degree of the second polynomial: 1\n",
            "Enter the coefficients of the second polynomial (highest degree to constant term):\n",
            "1 2\n",
            "\n",
            "Resultant Polynomial after Addition:\n",
            "3x^2 + 5x + 7\n"
          ]
        }
      ]
    },
    {
      "cell_type": "code",
      "source": [
        "#Multiply two polynomials\n",
        "deg1 = int(input(\"Enter the degree of the first polynomial: \"))\n",
        "print(\"Enter the coefficients of the first polynomial (highest degree to constant term):\")\n",
        "poly1 = list(map(int, input().split()))\n",
        "deg2 = int(input(\"Enter the degree of the second polynomial: \"))\n",
        "print(\"Enter the coefficients of the second polynomial (highest degree to constant term):\")\n",
        "poly2 = list(map(int, input().split()))\n",
        "poly1 = poly1[::-1]\n",
        "poly2 = poly2[::-1]\n",
        "result_size = deg1 + deg2 + 1\n",
        "result = [0] * result_size\n",
        "for i in range(len(poly1)):\n",
        "    for j in range(len(poly2)):\n",
        "        result[i + j] += poly1[i] * poly2[j]\n",
        "result = result[::-1]\n",
        "print(\"\\nResultant Polynomial after Multiplication:\")\n",
        "degree = len(result) - 1\n",
        "for i in range(len(result)):\n",
        "    coef = result[i]\n",
        "    if coef != 0:\n",
        "        if degree - i == 0:\n",
        "            print(f\"{coef}\", end=\"\")\n",
        "        elif degree - i == 1:\n",
        "            print(f\"{coef}x\", end=\" + \")\n",
        "        else:\n",
        "            print(f\"{coef}x^{degree - i}\", end=\" + \")\n",
        "print()\n",
        "\n"
      ],
      "metadata": {
        "colab": {
          "base_uri": "https://localhost:8080/"
        },
        "id": "gcwIUG3ypxGl",
        "outputId": "a0196977-f350-4530-fc15-9edada1c5fb1"
      },
      "execution_count": null,
      "outputs": [
        {
          "output_type": "stream",
          "name": "stdout",
          "text": [
            "Enter the degree of the first polynomial: 2\n",
            "Enter the coefficients of the first polynomial (highest degree to constant term):\n",
            "5 6 4\n",
            "Enter the degree of the second polynomial: 1\n",
            "Enter the coefficients of the second polynomial (highest degree to constant term):\n",
            "7 8\n",
            "\n",
            "Resultant Polynomial after Multiplication:\n",
            "35x^3 + 82x^2 + 76x + 32\n"
          ]
        }
      ]
    },
    {
      "cell_type": "code",
      "source": [
        "#Dynamic array operations\n",
        "arr = []\n",
        "while True:\n",
        "    print(\"\\n--- Dynamic Array Operations ---\")\n",
        "    print(\"1. Insert element\")\n",
        "    print(\"2. Delete element\")\n",
        "    print(\"3. Search element\")\n",
        "    print(\"4. Display array\")\n",
        "    print(\"5. Exit\")\n",
        "    choice = int(input(\"Enter your choice (1-5): \"))\n",
        "    if choice == 1:\n",
        "        elem = int(input(\"Enter element to insert: \"))\n",
        "        arr.append(elem)\n",
        "        print(f\"{elem} inserted.\")\n",
        "    elif choice == 2:\n",
        "        if len(arr) == 0:\n",
        "            print(\"Array is empty.\")\n",
        "        else:\n",
        "            elem = int(input(\"Enter element to delete: \"))\n",
        "            if elem in arr:\n",
        "                arr.remove(elem)\n",
        "                print(f\"{elem} deleted.\")\n",
        "            else:\n",
        "                print(f\"{elem} not found in array.\")\n",
        "    elif choice == 3:\n",
        "        if len(arr) == 0:\n",
        "            print(\"Array is empty.\")\n",
        "        else:\n",
        "            elem = int(input(\"Enter element to search: \"))\n",
        "            if elem in arr:\n",
        "                index = arr.index(elem)\n",
        "                print(f\"{elem} found at position {index}.\")\n",
        "            else:\n",
        "                print(f\"{elem} not found in array.\")\n",
        "    elif choice == 4:\n",
        "        if len(arr) == 0:\n",
        "            print(\"Array is empty.\")\n",
        "        else:\n",
        "            print(\"Current array:\", arr)\n",
        "    elif choice == 5:\n",
        "        # Exit\n",
        "        print(\"Exiting program.\")\n",
        "        break\n",
        "    else:\n",
        "        print(\"Invalid choice. Please enter a number between 1 and 5.\")\n"
      ],
      "metadata": {
        "colab": {
          "base_uri": "https://localhost:8080/"
        },
        "id": "onY6R7vJqub6",
        "outputId": "5a9a3cb0-ea48-4b37-b79e-ef6df0b43bac"
      },
      "execution_count": null,
      "outputs": [
        {
          "metadata": {
            "tags": null
          },
          "name": "stdout",
          "output_type": "stream",
          "text": [
            "\n",
            "--- Dynamic Array Operations ---\n",
            "1. Insert element\n",
            "2. Delete element\n",
            "3. Search element\n",
            "4. Display array\n",
            "5. Exit\n",
            "9 found at position 6.\n",
            "\n",
            "--- Dynamic Array Operations ---\n",
            "1. Insert element\n",
            "2. Delete element\n",
            "3. Search element\n",
            "4. Display array\n",
            "5. Exit\n",
            "Current array: [1, 2, 4, 8, 6, 7, 9]\n",
            "\n",
            "--- Dynamic Array Operations ---\n",
            "1. Insert element\n",
            "2. Delete element\n",
            "3. Search element\n",
            "4. Display array\n",
            "5. Exit\n"
          ]
        }
      ]
    },
    {
      "cell_type": "code",
      "source": [
        "#identity matrix\n",
        "n = int(input(\"Enter the size of the square matrix (n x n): \"))\n",
        "print(\"Enter the matrix row-wise:\")\n",
        "matrix = []\n",
        "for i in range(n):\n",
        "    row = list(map(int, input(f\"Enter row {i+1} (space-separated): \").split()))\n",
        "    if len(row) != n:\n",
        "        print(\"Invalid number of elements in row. Exiting.\")\n",
        "        exit()\n",
        "    matrix.append(row)\n",
        "is_identity = True\n",
        "for i in range(n):\n",
        "    for j in range(n):\n",
        "        if i == j and matrix[i][j] != 1:\n",
        "            is_identity = False\n",
        "        elif i != j and matrix[i][j] != 0:\n",
        "            is_identity = False\n",
        "if is_identity:\n",
        "    print(\"\\nThe matrix is an Identity Matrix.\")\n",
        "else:\n",
        "    print(\"\\nThe matrix is NOT an Identity Matrix.\")\n"
      ],
      "metadata": {
        "id": "OwhBPzEKvPrE"
      },
      "execution_count": null,
      "outputs": []
    },
    {
      "cell_type": "code",
      "source": [
        "#Count zeros in matrix\n",
        "rows = int(input(\"Enter number of rows: \"))\n",
        "cols = int(input(\"Enter number of columns: \"))\n",
        "zero_count = 0\n",
        "matrix = []\n",
        "print(\"Enter the matrix row-wise:\")\n",
        "for i in range(rows):\n",
        "    row = list(map(int, input(f\"Enter row {i+1} (space-separated): \").split()))\n",
        "    if len(row) != cols:\n",
        "        print(\"Invalid number of elements. Exiting.\")\n",
        "        exit()\n",
        "    matrix.append(row)\n",
        "    for val in row:\n",
        "        if val == 0:\n",
        "            zero_count += 1\n",
        "print(f\"\\nTotal number of zeros in the matrix: {zero_count}\")\n"
      ],
      "metadata": {
        "id": "MtncZ_h-wCcs"
      },
      "execution_count": null,
      "outputs": []
    }
  ]
}