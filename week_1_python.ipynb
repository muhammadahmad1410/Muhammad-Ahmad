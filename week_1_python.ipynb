{
  "nbformat": 4,
  "nbformat_minor": 0,
  "metadata": {
    "colab": {
      "provenance": [],
      "authorship_tag": "ABX9TyOS6sCHLQ5XwxIWVCnHKu9z",
      "include_colab_link": true
    },
    "kernelspec": {
      "name": "python3",
      "display_name": "Python 3"
    },
    "language_info": {
      "name": "python"
    }
  },
  "cells": [
    {
      "cell_type": "markdown",
      "metadata": {
        "id": "view-in-github",
        "colab_type": "text"
      },
      "source": [
        "<a href=\"https://colab.research.google.com/github/muhammadahmad1410/Muhammad-Ahmad/blob/main/week_1_python.ipynb\" target=\"_parent\"><img src=\"https://colab.research.google.com/assets/colab-badge.svg\" alt=\"Open In Colab\"/></a>"
      ]
    },
    {
      "cell_type": "code",
      "execution_count": 2,
      "metadata": {
        "colab": {
          "base_uri": "https://localhost:8080/"
        },
        "id": "LFy3C4rOSlXC",
        "outputId": "28d8ad6b-336e-4ba7-9e97-36836e2774a7"
      },
      "outputs": [
        {
          "output_type": "stream",
          "name": "stdout",
          "text": [
            "Enter the number of elements in the array: 4\n",
            "Enter element 1: 1\n",
            "Enter element 2: 2\n",
            "Enter element 3: 3\n",
            "Enter element 4: 4\n",
            "Enter the element to insert at the end: 5\n",
            "The new array is: [1, 2, 3, 4, 5]\n"
          ]
        }
      ],
      "source": [
        "#Insert an element at end of array\n",
        "n = int(input(\"Enter the number of elements in the array: \"))\n",
        "arr = []\n",
        "for i in range(n):\n",
        "    element = int(input(f\"Enter element {i+1}: \"))\n",
        "    arr.append(element)\n",
        "new_element = int(input(\"Enter the element to insert at the end: \"))\n",
        "arr.append(new_element)\n",
        "print(\"The new array is:\", arr)\n"
      ]
    },
    {
      "cell_type": "code",
      "source": [
        "n = int(input(\"Enter the number of elements in the array: \"))\n",
        "arr = []\n",
        "for i in range(n):\n",
        "    element = int(input(f\"Enter element of the array: \"))\n",
        "    arr.append(element)\n",
        "largest = arr[0]\n",
        "for num in arr:\n",
        "    if num > largest:\n",
        "        largest = num\n",
        "print(\"The largest element in the array is:\", largest)\n"
      ],
      "metadata": {
        "colab": {
          "base_uri": "https://localhost:8080/"
        },
        "id": "x6J56TLgTKqM",
        "outputId": "02c46773-7cd9-4a3d-c15b-e897ed6fdbef"
      },
      "execution_count": 3,
      "outputs": [
        {
          "output_type": "stream",
          "name": "stdout",
          "text": [
            "Enter the number of elements in the array: 4\n",
            "Enter element of the array: 8\n",
            "Enter element of the array: 6\n",
            "Enter element of the array: 5\n",
            "Enter element of the array: 7\n",
            "The largest element in the array is: 8\n"
          ]
        }
      ]
    },
    {
      "cell_type": "code",
      "source": [
        "#second largest element in array\n",
        "n = int(input(\"Enter the number of elements: \"))\n",
        "arr = []\n",
        "for i in range(n):\n",
        "    element = int(input(f\"Enter element {i+1}: \"))\n",
        "    arr.append(element)\n",
        "if n < 2:\n",
        "    print(\"Second largest element does not exist.\")\n",
        "else:\n",
        "    first = second = float('-inf')\n",
        "\n",
        "    for num in arr:\n",
        "        if num > first:\n",
        "            second = first\n",
        "            first = num\n",
        "        elif first > num > second:\n",
        "            second = num\n",
        "    if second == float('-inf'):\n",
        "        print(\"Second largest element does not exist (all elements may be equal).\")\n",
        "    else:\n",
        "        print(\"The second largest element is:\", second)\n"
      ],
      "metadata": {
        "colab": {
          "base_uri": "https://localhost:8080/"
        },
        "id": "NwEOvb6QU1t9",
        "outputId": "c0440c1b-cee8-47c5-d5f0-330b3db7929e"
      },
      "execution_count": 4,
      "outputs": [
        {
          "output_type": "stream",
          "name": "stdout",
          "text": [
            "Enter the number of elements: 3\n",
            "Enter element 1: 1\n",
            "Enter element 2: 2\n",
            "Enter element 3: 3\n",
            "The second largest element is: 2\n"
          ]
        }
      ]
    },
    {
      "cell_type": "code",
      "source": [
        "#Move all zeros to end 8\n",
        "n = int(input(\"Enter number of elements: \"))\n",
        "\n",
        "arr = []\n",
        "i = 0\n",
        "while i < n:\n",
        "    x = int(input(f\"Enter element {i+1}: \"))\n",
        "    arr += [x]\n",
        "    i += 1\n",
        "index = 0\n",
        "i = 0\n",
        "while i < n:\n",
        "    if arr[i] != 0:\n",
        "        arr[index] = arr[i]\n",
        "        index += 1\n",
        "    i += 1\n",
        "while index < n:\n",
        "    arr[index] = 0\n",
        "    index += 1\n",
        "print(\"Array after moving zeros to the end:\")\n",
        "i = 0\n",
        "while i < n:\n",
        "    print(arr[i], end=\" \")\n",
        "    i += 1\n",
        "\n"
      ],
      "metadata": {
        "colab": {
          "base_uri": "https://localhost:8080/"
        },
        "id": "Lg71PDR3VJFb",
        "outputId": "28f2e19f-f84f-4abc-bc36-e90300b51999"
      },
      "execution_count": 5,
      "outputs": [
        {
          "output_type": "stream",
          "name": "stdout",
          "text": [
            "Enter number of elements: 5\n",
            "Enter element 1: 0\n",
            "Enter element 2: 0\n",
            "Enter element 3: 4\n",
            "Enter element 4: 8\n",
            "Enter element 5: 9\n",
            "Array after moving zeros to the end:\n",
            "4 8 9 0 0 "
          ]
        }
      ]
    },
    {
      "cell_type": "code",
      "source": [
        "#Rotate array by one\n",
        "n = int(input(\"Enter number of elements: \"))\n",
        "arr = []\n",
        "for i in range(n):\n",
        "    element = int(input(f\"Enter element {i+1}: \"))\n",
        "    arr.append(element)\n",
        "\n",
        "last = arr[-1]\n",
        "for i in range(n-1, 0, -1):\n",
        "    arr[i] = arr[i-1]\n",
        "arr[0] = last\n",
        "print(\"Array after rotating by one position:\")\n",
        "for i in range(n):\n",
        "    print(arr[i], end=\" \")\n"
      ],
      "metadata": {
        "colab": {
          "base_uri": "https://localhost:8080/"
        },
        "id": "kk0f8wofV82i",
        "outputId": "982cacdc-7654-48e3-f23c-f1e84e61eaea"
      },
      "execution_count": 6,
      "outputs": [
        {
          "output_type": "stream",
          "name": "stdout",
          "text": [
            "Enter number of elements: 4\n",
            "Enter element 1: 8\n",
            "Enter element 2: 9\n",
            "Enter element 3: 7\n",
            "Enter element 4: 6\n",
            "Array after rotating by one position:\n",
            "6 8 9 7 "
          ]
        }
      ]
    },
    {
      "cell_type": "code",
      "source": [
        "# Check if array is sorted\n",
        "n = int(input(\"Enter number of elements: \"))\n",
        "arr = []\n",
        "for i in range(n):\n",
        "    num = int(input(f\"Enter element {i+1}: \"))\n",
        "    arr.append(num)\n",
        "is_ascending = True\n",
        "is_descending = True\n",
        "\n",
        "for i in range(1, n):\n",
        "    if arr[i] < arr[i - 1]:\n",
        "        is_ascending = False\n",
        "    if arr[i] > arr[i - 1]:\n",
        "        is_descending = False\n",
        "if is_ascending:\n",
        "    print(\"The array is sorted in ascending order.\")\n",
        "elif is_descending:\n",
        "    print(\"The array is sorted in descending order.\")\n",
        "else:\n",
        "    print(\"The array is not sorted.\")\n"
      ],
      "metadata": {
        "colab": {
          "base_uri": "https://localhost:8080/"
        },
        "id": "tw5CfdI4WmNT",
        "outputId": "373279e6-2251-4886-b491-6a7f2a96e997"
      },
      "execution_count": 7,
      "outputs": [
        {
          "output_type": "stream",
          "name": "stdout",
          "text": [
            "Enter number of elements: 4\n",
            "Enter element 1: 7\n",
            "Enter element 2: 9\n",
            "Enter element 3: 10\n",
            "Enter element 4: 98\n",
            "The array is sorted in ascending order.\n"
          ]
        }
      ]
    },
    {
      "cell_type": "code",
      "source": [
        "#Reverse a string\n",
        "text = input(\"Enter a string\")\n",
        "reversed_text = text[::-1]\n",
        "print(reversed_text)\n"
      ],
      "metadata": {
        "colab": {
          "base_uri": "https://localhost:8080/"
        },
        "id": "3B7T5AP9XKCy",
        "outputId": "53bfd4d2-8d3c-4e58-c5ef-79f9051d225e"
      },
      "execution_count": 8,
      "outputs": [
        {
          "output_type": "stream",
          "name": "stdout",
          "text": [
            "Enter a stringhello\n",
            "olleh\n"
          ]
        }
      ]
    },
    {
      "cell_type": "code",
      "source": [
        "#Check if string is palindrome\n",
        "user_string = input(\"Enter a string: \")\n",
        "reverse_string = user_string.replace(\" \", \"\").lower()\n",
        "\n",
        "if reverse_string == reverse_string[::-1]:\n",
        "    print(\"The string is a palindrome.\")\n",
        "else:\n",
        "    print(\"The string is not a palindrome.\")\n"
      ],
      "metadata": {
        "colab": {
          "base_uri": "https://localhost:8080/"
        },
        "id": "GJwz2SvaX7PX",
        "outputId": "9be795a4-efbe-4995-887e-ec83a07b12e0"
      },
      "execution_count": 10,
      "outputs": [
        {
          "output_type": "stream",
          "name": "stdout",
          "text": [
            "Enter a string: madam\n",
            "The string is a palindrome.\n"
          ]
        }
      ]
    },
    {
      "cell_type": "code",
      "source": [
        "# Count frequency of array elements\n",
        "x = input(\"Enter array elements separated by space: \")\n",
        "arr = x.split()\n",
        "frequency = {}\n",
        "for element in arr:\n",
        "    if element in frequency:\n",
        "        frequency[element] += 1\n",
        "    else:\n",
        "        frequency[element] = 1\n",
        "\n",
        "print(\"Frequency of array elements:\")\n",
        "for key, value in frequency.items():\n",
        "    print(f\"{key}: {value}\")\n",
        "\n"
      ],
      "metadata": {
        "colab": {
          "base_uri": "https://localhost:8080/"
        },
        "id": "BQb-0E23Yh_f",
        "outputId": "712e42db-0a04-4e8c-bc8d-10bb7a3a1512"
      },
      "execution_count": 11,
      "outputs": [
        {
          "output_type": "stream",
          "name": "stdout",
          "text": [
            "Enter array elements separated by space: 1 2 3 4 5\n",
            "Frequency of array elements:\n",
            "1: 1\n",
            "2: 1\n",
            "3: 1\n",
            "4: 1\n",
            "5: 1\n"
          ]
        }
      ]
    },
    {
      "cell_type": "code",
      "source": [
        "#reverse array\n",
        "n = int(input(\"Enter number of elements: \"))\n",
        "arr = []\n",
        "for i in range(n):\n",
        "    element = int(input(f\"Enter element of the array: \"))\n",
        "    arr.append(element)\n",
        "\n",
        "last = arr[-1]\n",
        "for i in range(n-1, 0, -1):\n",
        "    arr[i] = arr[i-1]\n",
        "arr[0] = last\n",
        "print(\"reversed array is:\")\n",
        "for i in range(n):\n",
        "    print(arr[i], end=\" \")"
      ],
      "metadata": {
        "colab": {
          "base_uri": "https://localhost:8080/"
        },
        "id": "vZTMn87PZf57",
        "outputId": "71556a0c-d227-4147-b3b0-ad383e9de4c7"
      },
      "execution_count": 17,
      "outputs": [
        {
          "output_type": "stream",
          "name": "stdout",
          "text": [
            "Enter number of elements: 4\n",
            "Enter element of the array: 1\n",
            "Enter element of the array: 2\n",
            "Enter element of the array: 3\n",
            "Enter element of the array: 4\n",
            "reversed array is:\n",
            "4 1 2 3 "
          ]
        }
      ]
    }
  ]
}